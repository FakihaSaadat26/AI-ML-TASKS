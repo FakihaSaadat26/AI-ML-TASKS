{
 "cells": [
  {
   "cell_type": "markdown",
   "id": "975b1d66",
   "metadata": {},
   "source": [
    "IMPORTING NECESSARY LIBRARIES"
   ]
  },
  {
   "cell_type": "code",
   "execution_count": 1,
   "id": "033e88a1",
   "metadata": {},
   "outputs": [],
   "source": [
    "# Step 1: Import libraries\n",
    "import pandas as pd\n",
    "import numpy as np\n",
    "import matplotlib.pyplot as plt\n",
    "import seaborn as sns\n",
    "\n",
    "from sklearn.model_selection import train_test_split\n",
    "from sklearn.preprocessing import LabelEncoder, StandardScaler\n",
    "from sklearn.linear_model import LinearRegression\n",
    "from sklearn.ensemble import GradientBoostingRegressor\n",
    "from sklearn.metrics import mean_absolute_error, mean_squared_error"
   ]
  },
  {
   "cell_type": "markdown",
   "id": "e95ac099",
   "metadata": {},
   "source": [
    "LOAD AND EXPLORE THE DATASET"
   ]
  },
  {
   "cell_type": "code",
   "execution_count": null,
   "id": "590fa2a2",
   "metadata": {},
   "outputs": [
    {
     "name": "stdout",
     "output_type": "stream",
     "text": [
      "      price  area  bedrooms  bathrooms  stories mainroad guestroom basement  \\\n",
      "0  13300000  7420         4          2        3      yes        no       no   \n",
      "1  12250000  8960         4          4        4      yes        no       no   \n",
      "2  12250000  9960         3          2        2      yes        no      yes   \n",
      "3  12215000  7500         4          2        2      yes        no      yes   \n",
      "4  11410000  7420         4          1        2      yes       yes      yes   \n",
      "\n",
      "  hotwaterheating airconditioning  parking prefarea furnishingstatus  \n",
      "0              no             yes        2      yes        furnished  \n",
      "1              no             yes        3       no        furnished  \n",
      "2              no              no        2      yes   semi-furnished  \n",
      "3              no             yes        3      yes        furnished  \n",
      "4              no             yes        2       no        furnished  \n",
      "<class 'pandas.core.frame.DataFrame'>\n",
      "RangeIndex: 545 entries, 0 to 544\n",
      "Data columns (total 13 columns):\n",
      " #   Column            Non-Null Count  Dtype \n",
      "---  ------            --------------  ----- \n",
      " 0   price             545 non-null    int64 \n",
      " 1   area              545 non-null    int64 \n",
      " 2   bedrooms          545 non-null    int64 \n",
      " 3   bathrooms         545 non-null    int64 \n",
      " 4   stories           545 non-null    int64 \n",
      " 5   mainroad          545 non-null    object\n",
      " 6   guestroom         545 non-null    object\n",
      " 7   basement          545 non-null    object\n",
      " 8   hotwaterheating   545 non-null    object\n",
      " 9   airconditioning   545 non-null    object\n",
      " 10  parking           545 non-null    int64 \n",
      " 11  prefarea          545 non-null    object\n",
      " 12  furnishingstatus  545 non-null    object\n",
      "dtypes: int64(6), object(7)\n",
      "memory usage: 55.5+ KB\n",
      "None\n"
     ]
    }
   ],
   "source": [
    "df = pd.read_csv(\"Housing.csv\")\n",
    "print(df.head())\n",
    "print(df.info())\n"
   ]
  },
  {
   "cell_type": "markdown",
   "id": "53f82314",
   "metadata": {},
   "source": [
    "PRE-PROCESSING (Encode categorical variables)"
   ]
  },
  {
   "cell_type": "code",
   "execution_count": 8,
   "id": "6c190739",
   "metadata": {},
   "outputs": [],
   "source": [
    "features = ['area', 'bedrooms', 'bathrooms', 'stories', 'parking']\n",
    "target = 'price'"
   ]
  },
  {
   "cell_type": "markdown",
   "id": "76007292",
   "metadata": {},
   "source": [
    "PRE-PROCESSING (Handle missing values)"
   ]
  },
  {
   "cell_type": "code",
   "execution_count": 9,
   "id": "fc345371",
   "metadata": {},
   "outputs": [
    {
     "name": "stdout",
     "output_type": "stream",
     "text": [
      "        price  area  bedrooms  bathrooms  stories mainroad guestroom basement  \\\n",
      "0    13300000  7420         4          2        3      yes        no       no   \n",
      "1    12250000  8960         4          4        4      yes        no       no   \n",
      "2    12250000  9960         3          2        2      yes        no      yes   \n",
      "3    12215000  7500         4          2        2      yes        no      yes   \n",
      "4    11410000  7420         4          1        2      yes       yes      yes   \n",
      "..        ...   ...       ...        ...      ...      ...       ...      ...   \n",
      "540   1820000  3000         2          1        1      yes        no      yes   \n",
      "541   1767150  2400         3          1        1       no        no       no   \n",
      "542   1750000  3620         2          1        1      yes        no       no   \n",
      "543   1750000  2910         3          1        1       no        no       no   \n",
      "544   1750000  3850         3          1        2      yes        no       no   \n",
      "\n",
      "    hotwaterheating airconditioning  parking prefarea furnishingstatus  \n",
      "0                no             yes        2      yes        furnished  \n",
      "1                no             yes        3       no        furnished  \n",
      "2                no              no        2      yes   semi-furnished  \n",
      "3                no             yes        3      yes        furnished  \n",
      "4                no             yes        2       no        furnished  \n",
      "..              ...             ...      ...      ...              ...  \n",
      "540              no              no        2       no      unfurnished  \n",
      "541              no              no        0       no   semi-furnished  \n",
      "542              no              no        0       no      unfurnished  \n",
      "543              no              no        0       no        furnished  \n",
      "544              no              no        0       no      unfurnished  \n",
      "\n",
      "[545 rows x 13 columns]\n"
     ]
    }
   ],
   "source": [
    "df = df.dropna(subset=features + [target])\n",
    "print(df)\n"
   ]
  },
  {
   "cell_type": "markdown",
   "id": "29314570",
   "metadata": {},
   "source": [
    "DEFINE FEATURE PROCESSING PIPELINE"
   ]
  },
  {
   "cell_type": "code",
   "execution_count": 3,
   "id": "c4dcf9d1",
   "metadata": {},
   "outputs": [],
   "source": [
    "\n",
    "df = pd.read_csv(\"Housing.csv\")\n",
    "categorical_cols = ['mainroad', 'guestroom', 'basement', 'hotwaterheating', 'airconditioning', 'prefarea', 'furnishingstatus']\n",
    "label_encoders = {}\n",
    "for col in categorical_cols:\n",
    "    le = LabelEncoder()\n",
    "    df[col] = le.fit_transform(df[col])\n",
    "    label_encoders[col] = le"
   ]
  },
  {
   "cell_type": "markdown",
   "id": "3c3e8639",
   "metadata": {},
   "source": [
    "DEFINE FEATURES AND TARGET"
   ]
  },
  {
   "cell_type": "code",
   "execution_count": 4,
   "id": "853c09d5",
   "metadata": {},
   "outputs": [],
   "source": [
    "X = df.drop(columns='price')\n",
    "y = df['price']"
   ]
  },
  {
   "cell_type": "markdown",
   "id": "7cc44d6c",
   "metadata": {},
   "source": [
    "SCALE NUMERICAL FEATURES"
   ]
  },
  {
   "cell_type": "code",
   "execution_count": 5,
   "id": "8b8bc784",
   "metadata": {},
   "outputs": [],
   "source": [
    "scaler = StandardScaler()\n",
    "X_scaled = scaler.fit_transform(X)"
   ]
  },
  {
   "cell_type": "markdown",
   "id": "8d963ca2",
   "metadata": {},
   "source": [
    "TRAIN/TEST SPLIT"
   ]
  },
  {
   "cell_type": "code",
   "execution_count": 6,
   "id": "676e2291",
   "metadata": {},
   "outputs": [],
   "source": [
    "X_train, X_test, y_train, y_test = train_test_split(X_scaled, y, test_size=0.2, random_state=42)\n"
   ]
  },
  {
   "cell_type": "markdown",
   "id": "a0fcfef0",
   "metadata": {},
   "source": [
    "TRAIN LINEAR REGRESSION MODEL"
   ]
  },
  {
   "cell_type": "code",
   "execution_count": 7,
   "id": "b72b5182",
   "metadata": {},
   "outputs": [],
   "source": [
    "lr_model = LinearRegression()\n",
    "lr_model.fit(X_train, y_train)\n",
    "lr_preds = lr_model.predict(X_test)"
   ]
  },
  {
   "cell_type": "markdown",
   "id": "56b030c9",
   "metadata": {},
   "source": [
    "TRAIN GRADIENT BOOSTING MODEL"
   ]
  },
  {
   "cell_type": "code",
   "execution_count": 8,
   "id": "5fc4b7eb",
   "metadata": {},
   "outputs": [],
   "source": [
    "gb_model = GradientBoostingRegressor(random_state=42)\n",
    "gb_model.fit(X_train, y_train)\n",
    "gb_preds = gb_model.predict(X_test)"
   ]
  },
  {
   "cell_type": "markdown",
   "id": "d821bb44",
   "metadata": {},
   "source": [
    "EVALUATE MODEL"
   ]
  },
  {
   "cell_type": "code",
   "execution_count": 9,
   "id": "c98748ea",
   "metadata": {},
   "outputs": [],
   "source": [
    "lr_mae = mean_absolute_error(y_test, lr_preds)\n",
    "lr_rmse = np.sqrt(mean_squared_error(y_test, lr_preds))\n",
    "\n",
    "gb_mae = mean_absolute_error(y_test, gb_preds)\n",
    "gb_rmse = np.sqrt(mean_squared_error(y_test, gb_preds))"
   ]
  },
  {
   "cell_type": "markdown",
   "id": "121b48d4",
   "metadata": {},
   "source": [
    "PLOT ACTUAL VS PREDICTED RESULTS"
   ]
  },
  {
   "cell_type": "code",
   "execution_count": 10,
   "id": "d619dd58",
   "metadata": {},
   "outputs": [
    {
     "data": {
      "image/png": "[encoded data removed]",
      "text/plain": [
       "<Figure size 1000x500 with 1 Axes>"
      ]
     },
     "metadata": {},
     "output_type": "display_data"
    }
   ],
   "source": [
    "plt.figure(figsize=(10, 5))\n",
    "sns.scatterplot(x=y_test, y=gb_preds)\n",
    "plt.xlabel(\"Actual Prices\")\n",
    "plt.ylabel(\"Predicted Prices\")\n",
    "plt.title(\"Gradient Boosting: Actual vs Predicted Prices\")\n",
    "plt.grid(True)\n",
    "plt.tight_layout()\n",
    "plt.show()"
   ]
  }
 ],
 "metadata": {
  "kernelspec": {
   "display_name": "Python 3",
   "language": "python",
   "name": "python3"
  },
  "language_info": {
   "codemirror_mode": {
    "name": "ipython",
    "version": 3
   },
   "file_extension": ".py",
   "mimetype": "text/x-python",
   "name": "python",
   "nbconvert_exporter": "python",
   "pygments_lexer": "ipython3",
   "version": "3.12.4"
  }
 },
 "nbformat": 4,
 "nbformat_minor": 5
}
